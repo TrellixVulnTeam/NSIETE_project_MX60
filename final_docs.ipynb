{
 "cells": [
  {
   "cell_type": "code",
   "execution_count": 2,
   "metadata": {},
   "outputs": [],
   "source": [
    "import pandas as pd"
   ]
  },
  {
   "cell_type": "markdown",
   "metadata": {},
   "source": [
    "# Dokumentácia"
   ]
  },
  {
   "cell_type": "markdown",
   "metadata": {},
   "source": [
    "## Motivácia"
   ]
  },
  {
   "cell_type": "markdown",
   "metadata": {},
   "source": [
    "Našou témou bude veľmi častá úloha v oblasti NLP (Natural language processing), konkrétne analýza sentimentu. Na začiatok by sme chceli natrénovať modely na binárnu klasifikáciu používateľských recenzií k filmom. Keďže klasifikácia recenzií je pomerne jednoduchá úloha, poskytuje nám široké možnosti experimentovania a priestor na pridanie rôznych rozšírení k zadaniu.\n",
    "\n",
    "Analýza sentimentu (známa aj ako prieskum názorov, opinion mining) je oblasťou aktívneho výskumu v oblasti spracovania prirodzeného jazyka. Zameriava sa na identifikáciu, získavanie a organizovanie sentimentov z textov generovaných používateľmi v sociálnych sieťach, blogoch alebo recenziách produktov vie nám povedať, čo si ľudia myslia o danom produkte. Práve kvôli tomu má široké využitie hlavne pre firmy, ktoré sa snažia prispôsobiť svôj produkt pre zákazníkov alebo sa sústreďujú na user experiance.\n",
    "\n",
    "Analyzovať tisíce recenzií manuálne je časovo aj finančne náročné. Na pomoc prichádza AI a jeho podoblasť NLP, ktorá sa už viacero rokov zaoberá analýzou sentimentu. Oproti iným metódam, neurónové siete majú tú vyhodu, že sa dokážu pomerne jednoducho prispôsobiť danej doméne. Nerobia im problémy ani skratky alebo slang. Navyše sa nám téma javí ako zaujímavá z dôvodu nášho záujmu o filmy, práca na tejto téme je pre nás o to zábavnejšia."
   ]
  },
  {
   "cell_type": "markdown",
   "metadata": {},
   "source": [
    "## Podobné práce"
   ]
  },
  {
   "cell_type": "markdown",
   "metadata": {},
   "source": [
    "Veľmi jednoduchým riešením je použitie rekurentných sietí, ktoré sú na túto úlohu ako stvorené.\n",
    "\n",
    "-\tGraves, Alex. \"Supervised sequence labelling with recurrent neural networks. 2012.\" URL https://www.cs.toronto.edu/~graves/preprint.pdf (2012).\n",
    "\n",
    "Existuje však mnoho rozšírení, ktoré je možné aplikovať aj v našej práci napr. mechanizmy pozornosti alebo konvolučné siete.\n",
    "\n",
    "-\tOlah, Chris, and Shan Carter. \"Attention and augmented recurrent neural networks.\" Distill 1.9 (2016): e1.\n",
    "-\tZhang, Xiang, Junbo Zhao, and Yann LeCun. \"Character-level convolutional networks for text classification.\" Advances in neural information processing systems. 2015.\n",
    "-\tZhang, Lei, Shuai Wang, and Bing Liu. \"Deep learning for sentiment analysis: A survey.\" Wiley Interdisciplinary Reviews: Data Mining and Knowledge Discovery 8.4 (2018): e1253.\n",
    "-\tTang, Duyu, Bing Qin, and Ting Liu. \"Deep learning for sentiment analysis: successful approaches and future challenges.\" Wiley Interdisciplinary Reviews: Data Mining and Knowledge Discovery 5.6 (2015): 292-303.\n",
    "- Lin, Zhouhan, et al. \"A structured self-attentive sentence embedding.\" arXiv preprint arXiv:1703.03130 (2017).\n",
    "- M. Akhtar, A. Ekbal, S. Narayan and V. Singh, \"No, That Never Happened!! Investigating Rumors on Twitter\" in IEEE Intelligent Systems, vol. 33, no. 05, pp. 8-15, 2018."
   ]
  },
  {
   "cell_type": "markdown",
   "metadata": {},
   "source": [
    "## Dataset"
   ]
  },
  {
   "cell_type": "code",
   "execution_count": 3,
   "metadata": {},
   "outputs": [],
   "source": [
    "test_df = pd.read_csv('test.csv')\n",
    "train_df = pd.read_csv('train.csv')\n",
    "\n",
    "test_df.drop(columns=['Unnamed: 0'], inplace = True)\n",
    "train_df.drop(columns=['Unnamed: 0'], inplace = True)"
   ]
  },
  {
   "cell_type": "markdown",
   "metadata": {},
   "source": [
    "Náš dataset sa skladá z dvoch časti - trénovacej sady a testovacej sady. Obe sady majú 25 000 záznamov, pričom polovica je vždy označená ako negatívne a druhá polovica ako pozitívne."
   ]
  },
  {
   "cell_type": "markdown",
   "metadata": {},
   "source": [
    "### Náhľad dát"
   ]
  },
  {
   "cell_type": "code",
   "execution_count": 4,
   "metadata": {},
   "outputs": [
    {
     "data": {
      "text/html": [
       "<div>\n",
       "<style scoped>\n",
       "    .dataframe tbody tr th:only-of-type {\n",
       "        vertical-align: middle;\n",
       "    }\n",
       "\n",
       "    .dataframe tbody tr th {\n",
       "        vertical-align: top;\n",
       "    }\n",
       "\n",
       "    .dataframe thead th {\n",
       "        text-align: right;\n",
       "    }\n",
       "</style>\n",
       "<table border=\"1\" class=\"dataframe\">\n",
       "  <thead>\n",
       "    <tr style=\"text-align: right;\">\n",
       "      <th></th>\n",
       "      <th>review_text</th>\n",
       "      <th>sentiment</th>\n",
       "    </tr>\n",
       "  </thead>\n",
       "  <tbody>\n",
       "    <tr>\n",
       "      <th>0</th>\n",
       "      <td>A strange relationship between a middle-aged w...</td>\n",
       "      <td>pos</td>\n",
       "    </tr>\n",
       "    <tr>\n",
       "      <th>1</th>\n",
       "      <td>Yesterday was one of those days we decided to ...</td>\n",
       "      <td>neg</td>\n",
       "    </tr>\n",
       "    <tr>\n",
       "      <th>2</th>\n",
       "      <td>This movie was rented for free, I had no misco...</td>\n",
       "      <td>neg</td>\n",
       "    </tr>\n",
       "    <tr>\n",
       "      <th>3</th>\n",
       "      <td>This is one of Chaplin's First National films ...</td>\n",
       "      <td>pos</td>\n",
       "    </tr>\n",
       "    <tr>\n",
       "      <th>4</th>\n",
       "      <td>I enjoyed Ramin Bahrani's Man Push Cart, and t...</td>\n",
       "      <td>pos</td>\n",
       "    </tr>\n",
       "  </tbody>\n",
       "</table>\n",
       "</div>"
      ],
      "text/plain": [
       "                                         review_text sentiment\n",
       "0  A strange relationship between a middle-aged w...       pos\n",
       "1  Yesterday was one of those days we decided to ...       neg\n",
       "2  This movie was rented for free, I had no misco...       neg\n",
       "3  This is one of Chaplin's First National films ...       pos\n",
       "4  I enjoyed Ramin Bahrani's Man Push Cart, and t...       pos"
      ]
     },
     "execution_count": 4,
     "metadata": {},
     "output_type": "execute_result"
    }
   ],
   "source": [
    "test_df.head()"
   ]
  },
  {
   "cell_type": "code",
   "execution_count": 5,
   "metadata": {},
   "outputs": [
    {
     "data": {
      "text/html": [
       "<div>\n",
       "<style scoped>\n",
       "    .dataframe tbody tr th:only-of-type {\n",
       "        vertical-align: middle;\n",
       "    }\n",
       "\n",
       "    .dataframe tbody tr th {\n",
       "        vertical-align: top;\n",
       "    }\n",
       "\n",
       "    .dataframe thead th {\n",
       "        text-align: right;\n",
       "    }\n",
       "</style>\n",
       "<table border=\"1\" class=\"dataframe\">\n",
       "  <thead>\n",
       "    <tr style=\"text-align: right;\">\n",
       "      <th></th>\n",
       "      <th>review_text</th>\n",
       "      <th>sentiment</th>\n",
       "    </tr>\n",
       "  </thead>\n",
       "  <tbody>\n",
       "    <tr>\n",
       "      <th>0</th>\n",
       "      <td>I really enjoyed watching this movie about the...</td>\n",
       "      <td>pos</td>\n",
       "    </tr>\n",
       "    <tr>\n",
       "      <th>1</th>\n",
       "      <td>i saw this film by accident and this movie was...</td>\n",
       "      <td>neg</td>\n",
       "    </tr>\n",
       "    <tr>\n",
       "      <th>2</th>\n",
       "      <td>To bad for this fine film that it had to be re...</td>\n",
       "      <td>pos</td>\n",
       "    </tr>\n",
       "    <tr>\n",
       "      <th>3</th>\n",
       "      <td>A clever, undeniably entertaining romp starrin...</td>\n",
       "      <td>pos</td>\n",
       "    </tr>\n",
       "    <tr>\n",
       "      <th>4</th>\n",
       "      <td>I recently rented this doc, having remembered ...</td>\n",
       "      <td>pos</td>\n",
       "    </tr>\n",
       "  </tbody>\n",
       "</table>\n",
       "</div>"
      ],
      "text/plain": [
       "                                         review_text sentiment\n",
       "0  I really enjoyed watching this movie about the...       pos\n",
       "1  i saw this film by accident and this movie was...       neg\n",
       "2  To bad for this fine film that it had to be re...       pos\n",
       "3  A clever, undeniably entertaining romp starrin...       pos\n",
       "4  I recently rented this doc, having remembered ...       pos"
      ]
     },
     "execution_count": 5,
     "metadata": {},
     "output_type": "execute_result"
    }
   ],
   "source": [
    "train_df.head()"
   ]
  },
  {
   "cell_type": "markdown",
   "metadata": {},
   "source": [
    "Dáta sa skladajú z dvoch atribútov - review text a sentiment. Prvý atribút **review_text** obsahuje celú textovú recenziu, druhý atribút **sentiment** označuje či je recenzia pozitívna (pos), alebo negatívna (neg)."
   ]
  },
  {
   "cell_type": "code",
   "execution_count": 6,
   "metadata": {},
   "outputs": [
    {
     "name": "stdout",
     "output_type": "stream",
     "text": [
      "<class 'pandas.core.frame.DataFrame'>\n",
      "RangeIndex: 25000 entries, 0 to 24999\n",
      "Data columns (total 2 columns):\n",
      "review_text    25000 non-null object\n",
      "sentiment      25000 non-null object\n",
      "dtypes: object(2)\n",
      "memory usage: 390.8+ KB\n"
     ]
    }
   ],
   "source": [
    "test_df.info()"
   ]
  },
  {
   "cell_type": "code",
   "execution_count": 7,
   "metadata": {},
   "outputs": [
    {
     "name": "stdout",
     "output_type": "stream",
     "text": [
      "<class 'pandas.core.frame.DataFrame'>\n",
      "RangeIndex: 25000 entries, 0 to 24999\n",
      "Data columns (total 2 columns):\n",
      "review_text    25000 non-null object\n",
      "sentiment      25000 non-null object\n",
      "dtypes: object(2)\n",
      "memory usage: 390.8+ KB\n"
     ]
    }
   ],
   "source": [
    "train_df.info()"
   ]
  },
  {
   "cell_type": "code",
   "execution_count": 8,
   "metadata": {},
   "outputs": [
    {
     "data": {
      "text/html": [
       "<div>\n",
       "<style scoped>\n",
       "    .dataframe tbody tr th:only-of-type {\n",
       "        vertical-align: middle;\n",
       "    }\n",
       "\n",
       "    .dataframe tbody tr th {\n",
       "        vertical-align: top;\n",
       "    }\n",
       "\n",
       "    .dataframe thead th {\n",
       "        text-align: right;\n",
       "    }\n",
       "</style>\n",
       "<table border=\"1\" class=\"dataframe\">\n",
       "  <thead>\n",
       "    <tr style=\"text-align: right;\">\n",
       "      <th></th>\n",
       "      <th>review_text</th>\n",
       "      <th>sentiment</th>\n",
       "    </tr>\n",
       "  </thead>\n",
       "  <tbody>\n",
       "    <tr>\n",
       "      <th>count</th>\n",
       "      <td>25000</td>\n",
       "      <td>25000</td>\n",
       "    </tr>\n",
       "    <tr>\n",
       "      <th>unique</th>\n",
       "      <td>24801</td>\n",
       "      <td>2</td>\n",
       "    </tr>\n",
       "    <tr>\n",
       "      <th>top</th>\n",
       "      <td>Loved today's show!!! It was a variety and not...</td>\n",
       "      <td>pos</td>\n",
       "    </tr>\n",
       "    <tr>\n",
       "      <th>freq</th>\n",
       "      <td>5</td>\n",
       "      <td>12500</td>\n",
       "    </tr>\n",
       "  </tbody>\n",
       "</table>\n",
       "</div>"
      ],
      "text/plain": [
       "                                              review_text sentiment\n",
       "count                                               25000     25000\n",
       "unique                                              24801         2\n",
       "top     Loved today's show!!! It was a variety and not...       pos\n",
       "freq                                                    5     12500"
      ]
     },
     "execution_count": 8,
     "metadata": {},
     "output_type": "execute_result"
    }
   ],
   "source": [
    "test_df.describe()"
   ]
  },
  {
   "cell_type": "code",
   "execution_count": 9,
   "metadata": {},
   "outputs": [
    {
     "data": {
      "text/html": [
       "<div>\n",
       "<style scoped>\n",
       "    .dataframe tbody tr th:only-of-type {\n",
       "        vertical-align: middle;\n",
       "    }\n",
       "\n",
       "    .dataframe tbody tr th {\n",
       "        vertical-align: top;\n",
       "    }\n",
       "\n",
       "    .dataframe thead th {\n",
       "        text-align: right;\n",
       "    }\n",
       "</style>\n",
       "<table border=\"1\" class=\"dataframe\">\n",
       "  <thead>\n",
       "    <tr style=\"text-align: right;\">\n",
       "      <th></th>\n",
       "      <th>review_text</th>\n",
       "      <th>sentiment</th>\n",
       "    </tr>\n",
       "  </thead>\n",
       "  <tbody>\n",
       "    <tr>\n",
       "      <th>count</th>\n",
       "      <td>25000</td>\n",
       "      <td>25000</td>\n",
       "    </tr>\n",
       "    <tr>\n",
       "      <th>unique</th>\n",
       "      <td>24904</td>\n",
       "      <td>2</td>\n",
       "    </tr>\n",
       "    <tr>\n",
       "      <th>top</th>\n",
       "      <td>You do realize that you've been watching the E...</td>\n",
       "      <td>pos</td>\n",
       "    </tr>\n",
       "    <tr>\n",
       "      <th>freq</th>\n",
       "      <td>3</td>\n",
       "      <td>12500</td>\n",
       "    </tr>\n",
       "  </tbody>\n",
       "</table>\n",
       "</div>"
      ],
      "text/plain": [
       "                                              review_text sentiment\n",
       "count                                               25000     25000\n",
       "unique                                              24904         2\n",
       "top     You do realize that you've been watching the E...       pos\n",
       "freq                                                    3     12500"
      ]
     },
     "execution_count": 9,
     "metadata": {},
     "output_type": "execute_result"
    }
   ],
   "source": [
    "train_df.describe()"
   ]
  },
  {
   "cell_type": "markdown",
   "metadata": {},
   "source": [
    "### Počet pozitívnych a negatívnych recenzií v dátach"
   ]
  },
  {
   "cell_type": "code",
   "execution_count": 10,
   "metadata": {},
   "outputs": [
    {
     "data": {
      "text/plain": [
       "pos    12500\n",
       "neg    12500\n",
       "Name: sentiment, dtype: int64"
      ]
     },
     "execution_count": 10,
     "metadata": {},
     "output_type": "execute_result"
    }
   ],
   "source": [
    "test_df['sentiment'].value_counts()"
   ]
  },
  {
   "cell_type": "code",
   "execution_count": 11,
   "metadata": {},
   "outputs": [
    {
     "data": {
      "text/plain": [
       "pos    12500\n",
       "neg    12500\n",
       "Name: sentiment, dtype: int64"
      ]
     },
     "execution_count": 11,
     "metadata": {},
     "output_type": "execute_result"
    }
   ],
   "source": [
    "train_df['sentiment'].value_counts()"
   ]
  },
  {
   "cell_type": "markdown",
   "metadata": {},
   "source": [
    "### Prekrývajúce sa dáta"
   ]
  },
  {
   "cell_type": "code",
   "execution_count": 12,
   "metadata": {},
   "outputs": [
    {
     "data": {
      "text/html": [
       "<div>\n",
       "<style scoped>\n",
       "    .dataframe tbody tr th:only-of-type {\n",
       "        vertical-align: middle;\n",
       "    }\n",
       "\n",
       "    .dataframe tbody tr th {\n",
       "        vertical-align: top;\n",
       "    }\n",
       "\n",
       "    .dataframe thead th {\n",
       "        text-align: right;\n",
       "    }\n",
       "</style>\n",
       "<table border=\"1\" class=\"dataframe\">\n",
       "  <thead>\n",
       "    <tr style=\"text-align: right;\">\n",
       "      <th></th>\n",
       "      <th>review_text</th>\n",
       "      <th>sentiment</th>\n",
       "    </tr>\n",
       "  </thead>\n",
       "  <tbody>\n",
       "  </tbody>\n",
       "</table>\n",
       "</div>"
      ],
      "text/plain": [
       "Empty DataFrame\n",
       "Columns: [review_text, sentiment]\n",
       "Index: []"
      ]
     },
     "execution_count": 12,
     "metadata": {},
     "output_type": "execute_result"
    }
   ],
   "source": [
    "overlap = train_df.isin(test_df)\n",
    "overlap[overlap['review_text'] == True]"
   ]
  },
  {
   "cell_type": "markdown",
   "metadata": {},
   "source": [
    "Zistili sme, že v našich dátach sa nenachádzajú žiadne riadky, ktoré by boli aj v trénovacích dátach aj v testovacích."
   ]
  },
  {
   "cell_type": "markdown",
   "metadata": {},
   "source": [
    "### Tokenizácia"
   ]
  },
  {
   "cell_type": "code",
   "execution_count": 13,
   "metadata": {},
   "outputs": [],
   "source": [
    "import tensorflow as tf"
   ]
  },
  {
   "cell_type": "code",
   "execution_count": 14,
   "metadata": {},
   "outputs": [],
   "source": [
    "def get_tokenizer(vocab_file, vocab_size, separator='\\n'):\n",
    "    vocab = open(vocab_file).read()\n",
    "    tokenizer = tf.keras.preprocessing.text.Tokenizer(vocab_size, split=separator, oov_token=1)\n",
    "    tokenizer.fit_on_texts([vocab])\n",
    "    return tokenizer\n",
    "\n",
    "tokenizer = get_tokenizer('dataset/aclImdb/imdb.vocab', 10001)"
   ]
  },
  {
   "cell_type": "markdown",
   "metadata": {},
   "source": [
    "### Metriky pre recenzie"
   ]
  },
  {
   "cell_type": "code",
   "execution_count": 15,
   "metadata": {},
   "outputs": [
    {
     "data": {
      "text/plain": [
       "count    25000.00000\n",
       "mean      1293.79240\n",
       "std        975.90776\n",
       "min         32.00000\n",
       "25%        696.00000\n",
       "50%        962.00000\n",
       "75%       1572.00000\n",
       "max      12988.00000\n",
       "Name: review_text, dtype: float64"
      ]
     },
     "execution_count": 15,
     "metadata": {},
     "output_type": "execute_result"
    }
   ],
   "source": [
    "test_df['review_text'].str.len().describe()"
   ]
  },
  {
   "cell_type": "code",
   "execution_count": 16,
   "metadata": {},
   "outputs": [
    {
     "data": {
      "text/plain": [
       "count    25000.00000\n",
       "mean      1325.06964\n",
       "std       1003.13367\n",
       "min         52.00000\n",
       "25%        702.00000\n",
       "50%        979.00000\n",
       "75%       1614.00000\n",
       "max      13704.00000\n",
       "Name: review_text, dtype: float64"
      ]
     },
     "execution_count": 16,
     "metadata": {},
     "output_type": "execute_result"
    }
   ],
   "source": [
    "train_df['review_text'].str.len().describe()"
   ]
  },
  {
   "cell_type": "code",
   "execution_count": 19,
   "metadata": {},
   "outputs": [
    {
     "data": {
      "text/plain": [
       "<matplotlib.axes._subplots.AxesSubplot at 0x1376c9c88>"
      ]
     },
     "execution_count": 19,
     "metadata": {},
     "output_type": "execute_result"
    },
    {
     "data": {
      "image/png": "[encoded data removed]",
      "text/plain": [
       "<Figure size 432x288 with 1 Axes>"
      ]
     },
     "metadata": {
      "needs_background": "light"
     },
     "output_type": "display_data"
    }
   ],
   "source": [
    "lengths = pd.DataFrame(train_df['review_text'].str.len())\n",
    "lengths.rename(columns={\"review_text\": \"review_len\"}, inplace=True)\n",
    "lengths\n",
    "lengths.boxplot(column=['review_len'])"
   ]
  },
  {
   "cell_type": "code",
   "execution_count": 18,
   "metadata": {},
   "outputs": [
    {
     "data": {
      "image/png": "[encoded data removed]",
      "text/plain": [
       "<Figure size 432x288 with 1 Axes>"
      ]
     },
     "metadata": {
      "needs_background": "light"
     },
     "output_type": "display_data"
    }
   ],
   "source": [
    "lines = lengths.plot.hist(bins=20)"
   ]
  },
  {
   "cell_type": "markdown",
   "metadata": {},
   "source": [
    "### Histogram frekvencie slov"
   ]
  },
  {
   "cell_type": "code",
   "execution_count": 24,
   "metadata": {
    "scrolled": true
   },
   "outputs": [
    {
     "data": {
      "image/png": "[encoded data removed]",
      "text/plain": [
       "<Figure size 432x288 with 1 Axes>"
      ]
     },
     "metadata": {
      "needs_background": "light"
     },
     "output_type": "display_data"
    }
   ],
   "source": [
    "import json\n",
    "data = json.loads(tokenizer.to_json())\n",
    "data = json.loads(data[\"config\"][\"word_counts\"])\n",
    "\n",
    "words = [key for key, value in data.items()]\n",
    "counts = [value for key, value in data.items()]\n",
    "\n",
    "data = list(zip(words, counts))\n",
    "data = sorted(data, key=lambda d: d[1], reverse=True)\n",
    "\n",
    "words = [d[0] for d in data]\n",
    "counts = [d[1] for d in data]\n",
    "\n",
    "import numpy as np\n",
    "import matplotlib.mlab as mlab\n",
    "import matplotlib.pyplot as plt\n",
    "\n",
    "plt.scatter(\n",
    "    words[:100],\n",
    "    counts[:100],\n",
    "    color=\"blue\",\n",
    "    s=10\n",
    "  )\n",
    "plt.show()"
   ]
  },
  {
   "cell_type": "markdown",
   "metadata": {},
   "source": [
    "## Dáta"
   ]
  },
  {
   "cell_type": "code",
   "execution_count": 2,
   "metadata": {},
   "outputs": [
    {
     "name": "stdout",
     "output_type": "stream",
     "text": [
      "Dataset already downloaded.\n"
     ]
    }
   ],
   "source": [
    "# Download dataset\n",
    "DATASET_URL = 'http://ai.stanford.edu/~amaas/data/sentiment/aclImdb_v1.tar.gz'\n",
    "DATASET_DIR = 'dataset'\n",
    "DATASET_FILE_PATH = f'{DATASET_DIR}/aclImdb_v1.tar.gz'\n",
    "\n",
    "if not os.path.isfile(DATASET_FILE_PATH):\n",
    "    print(f'Downloading dataset into {DATASET_FILE_PATH} ...')\n",
    "    with urllib.request.urlopen(DATASET_URL) as response, open(DATASET_FILE_PATH, 'wb') as out_file:\n",
    "        shutil.copyfileobj(response, out_file)\n",
    "else:\n",
    "    print('Dataset already downloaded.')"
   ]
  },
  {
   "cell_type": "code",
   "execution_count": 3,
   "metadata": {},
   "outputs": [
    {
     "name": "stdout",
     "output_type": "stream",
     "text": [
      "Dataset already extracted.\n"
     ]
    }
   ],
   "source": [
    "# Untar the dataset archive\n",
    "if not os.path.isdir(f'{DATASET_DIR}/aclImdb'):\n",
    "    with tarfile.open(DATASET_FILE_PATH) as archive:\n",
    "        print(f'Extracting \"{DATASET_FILE_PATH}\" to \"{DATASET_DIR}\" ...')\n",
    "        archive.extractall(DATASET_DIR)\n",
    "        print('Extraction finished.')\n",
    "else:\n",
    "    print('Dataset already extracted.')"
   ]
  },
  {
   "cell_type": "code",
   "execution_count": 4,
   "metadata": {},
   "outputs": [],
   "source": [
    "# Arguments\n",
    "VOCAB_SIZE = 10_000\n",
    "MAX_SENTENCE_LEN = 300\n",
    "BATCH_SIZE = 256"
   ]
  },
  {
   "cell_type": "code",
   "execution_count": 5,
   "metadata": {},
   "outputs": [],
   "source": [
    "# Load data from folders\n",
    "TEST_FOLDER = f'{DATASET_DIR}/aclImdb/test'\n",
    "TEST_POSITIVE_FOLDER = f'{TEST_FOLDER}/pos'\n",
    "TEST_NEGATIVE_FOLDER = f'{TEST_FOLDER}/neg'\n",
    "\n",
    "TRAIN_FOLDER = f'{DATASET_DIR}/aclImdb/train'\n",
    "TRAIN_POSITIVE_FOLDER = f'{TRAIN_FOLDER}/pos'\n",
    "TRAIN_NEGATIVE_FOLDER = f'{TRAIN_FOLDER}/neg'\n",
    "TRAIN_UNSUPERVISED_FOLDER = f'{TRAIN_FOLDER}/unsup'"
   ]
  },
  {
   "cell_type": "code",
   "execution_count": 6,
   "metadata": {},
   "outputs": [],
   "source": [
    "def get_tokenizer(vocab_file, vocab_size, separator='\\n'):\n",
    "    vocab = open(vocab_file).read().split(separator)\n",
    "    tokenizer = tf.keras.preprocessing.text.Tokenizer(vocab_size, oov_token=vocab_size)\n",
    "    tokenizer.fit_on_texts(vocab)\n",
    "    return tokenizer\n",
    "\n",
    "tokenizer = get_tokenizer(f'{DATASET_DIR}/aclImdb/imdb.vocab', VOCAB_SIZE+1)"
   ]
  },
  {
   "cell_type": "markdown",
   "metadata": {},
   "source": [
    "## Predspracovanie\n",
    "Používali sme dva druhy predspracovanie jeden pre hierarchické modely, ktorý nám reviews rozdelil na vety a druhý pre baseline modely ktorý nám z celého review spravil trénovaciu vzorku."
   ]
  },
  {
   "cell_type": "code",
   "execution_count": null,
   "metadata": {},
   "outputs": [],
   "source": [
    "def create_hierarchical_labeled_dataset_from_files(folders, label_map={'pos':[1, 0], 'neg': [0, 1]}, shuffle=True):\n",
    "    files = map(lambda folder: [glob.glob(f'{folder}/*'), f'{folder}'], folders)\n",
    "\n",
    "    # Assign label to every files based on folder they are in\n",
    "    labeled_files = map(lambda files_with_label:\n",
    "                        map(lambda file_path:\n",
    "                            [file_path, files_with_label[1].split('/')[-1]] # Take only the last folde from the folder path\n",
    "                        , files_with_label[0])\n",
    "                    , files)\n",
    "\n",
    "    # flatten list\n",
    "    flat_labeled_files = []\n",
    "    for lf in labeled_files:\n",
    "        for fl in lf:\n",
    "            flat_labeled_files.append(fl)\n",
    "\n",
    "    if shuffle:\n",
    "        random.shuffle(flat_labeled_files)\n",
    "\n",
    "    # read file contents\n",
    "    labeled_texts = map(lambda example: [\n",
    "        list(map(lambda x:\n",
    "                 [x for x in\n",
    "                     list(filter(None, x.translate({ord(c): None for c in '\\'\\\"()?/\\<>!@#$,;'})\n",
    "                             .lower()\n",
    "                             .split(' ')))[:MAX_SENTENCE_LEN]\n",
    "                  if x\n",
    "                  ],\n",
    "                 open(example[0]).read().split('.'))),\n",
    "        example[1]\n",
    "    ], flat_labeled_files)\n",
    "\n",
    "    labeled_tokens = map(lambda example: [tf.keras.preprocessing.sequence.pad_sequences(\n",
    "                                                tokenizer.texts_to_sequences(example[0]), MAX_SENTENCE_LEN, padding='post'),\n",
    "                                            label_map[example[1]]], labeled_texts)\n",
    "\n",
    "    return list(labeled_tokens), len(flat_labeled_files)\n",
    "\n",
    "cls_test_ds, num_test_samples = create_hierarchical_labeled_dataset_from_files([f'{TEST_POSITIVE_FOLDER}', f'{TEST_NEGATIVE_FOLDER}'])\n",
    "cls_train_ds, num_train_samples = create_hierarchical_labeled_dataset_from_files([f'{TRAIN_POSITIVE_FOLDER}', f'{TRAIN_NEGATIVE_FOLDER}'])\n",
    "\n",
    "\n",
    "# generate examples in the form of ((bs, review)(bs, label))\n",
    "def cls_test_gen():\n",
    "    for el in cls_test_ds:\n",
    "        yield (el[0][:MAX_PAR_LEN], el[1])\n",
    "\n",
    "\n",
    "def cls_train_gen():\n",
    "    for el in cls_train_ds:\n",
    "        yield (el[0][:MAX_PAR_LEN], el[1])\n",
    "\n",
    "\n",
    "ds_test = tf.data.Dataset.from_generator(lambda: cls_test_gen(),\n",
    "                                        (tf.int64, tf.int64)).repeat()\n",
    "ds_train = tf.data.Dataset.from_generator(lambda: cls_train_gen(),\n",
    "                                        (tf.int64, tf.int64)).repeat()\n",
    "\n",
    "ds_train = ds_train.padded_batch(\n",
    "    BATCH_SIZE,\n",
    "    padded_shapes=([MAX_PAR_LEN, None], [2]),\n",
    "    drop_remainder=True)\n",
    "\n",
    "ds_test = ds_test.padded_batch(\n",
    "    BATCH_SIZE,\n",
    "    padded_shapes=([MAX_PAR_LEN, None], [2]),\n",
    "    drop_remainder=True)"
   ]
  },
  {
   "cell_type": "code",
   "execution_count": 8,
   "metadata": {},
   "outputs": [],
   "source": [
    "def create_labeled_dataset_from_files(folders, label_map={'pos':[1, 0], 'neg': [0, 1]}, shuffle=True):\n",
    "    files = map(lambda folder: [glob.glob(f'{folder}/*'), f'{folder}'], folders)\n",
    "\n",
    "    # Assign label to every files based on folder they are in\n",
    "    labeled_files = map(lambda files_with_label:\n",
    "                        map(lambda file_path:\n",
    "                            [file_path, files_with_label[1].split('/')[-1]] # Take only the last folde from the folder path\n",
    "                        , files_with_label[0])\n",
    "                    , files)\n",
    "\n",
    "    # flatten list\n",
    "    flat_labeled_files = []\n",
    "    for lf in labeled_files:\n",
    "        for fl in lf:\n",
    "            flat_labeled_files.append(fl)\n",
    "\n",
    "    if shuffle:\n",
    "        random.shuffle(flat_labeled_files)\n",
    "\n",
    "    # read file contents\n",
    "    labeled_texts = map(lambda example: [open(example[0]).read().split(' ')[:MAX_SENTENCE_LEN], example[1]], flat_labeled_files)\n",
    "\n",
    "    # tokenize texts\n",
    "    labeled_tokens = map(lambda example: [*tokenizer.texts_to_sequences([example[0]]),\n",
    "                                          label_map[example[1]]], labeled_texts)\n",
    "    return list(labeled_tokens), len(flat_labeled_files)\n",
    "\n",
    "cls_test_ds, num_test_samples = create_labeled_dataset_from_files([f'{TEST_POSITIVE_FOLDER}', f'{TRAIN_NEGATIVE_FOLDER}'])\n",
    "cls_train_ds, num_train_samples = create_labeled_dataset_from_files([f'{TRAIN_POSITIVE_FOLDER}', f'{TRAIN_NEGATIVE_FOLDER}'])\n",
    "\n",
    "def cls_test_gen():\n",
    "    for el in cls_test_ds:\n",
    "        yield (el[0], el[1])\n",
    "\n",
    "def cls_train_gen():\n",
    "    for el in cls_train_ds:\n",
    "        yield (el[0], el[1])\n",
    "\n",
    "ds_test = tf.data.Dataset.from_generator(lambda: cls_test_gen(),\n",
    "                                        (tf.int64, tf.int64)).repeat()\n",
    "ds_train = tf.data.Dataset.from_generator(lambda: cls_train_gen(),\n",
    "                                        (tf.int64, tf.int64)).repeat()\n",
    "ds_train = ds_train.padded_batch(\n",
    "    BATCH_SIZE,\n",
    "    padded_shapes=([None], [2]),\n",
    "    drop_remainder=True)\n",
    "\n",
    "ds_test = ds_test.padded_batch(\n",
    "    BATCH_SIZE,\n",
    "    padded_shapes=([None], [2]),\n",
    "    drop_remainder=True)"
   ]
  },
  {
   "cell_type": "markdown",
   "metadata": {},
   "source": [
    "## Architektúry modelov"
   ]
  },
  {
   "cell_type": "markdown",
   "metadata": {},
   "source": [
    "### Diagram BiLSTM"
   ]
  },
  {
   "cell_type": "markdown",
   "metadata": {},
   "source": [
    "![BiLSTM](assets/bilstm-diag.png)"
   ]
  },
  {
   "cell_type": "markdown",
   "metadata": {},
   "source": [
    "Obojsmerná LSTM sieť, ktorá na svôj vstup dostane celé review."
   ]
  },
  {
   "cell_type": "code",
   "execution_count": null,
   "metadata": {},
   "outputs": [],
   "source": [
    "tf.keras.Sequential([\n",
    "    tf.keras.layers.Embedding(input_dim=VOCAB_SIZE+2, output_dim=emb, mask_zero=True),\n",
    "    tf.keras.layers.Bidirectional(\n",
    "            tf.keras.layers.LSTM(lstm1, dropout=drop1, activation='sigmoid'),\n",
    "    ),\n",
    "    tf.keras.layers.Dense(2, activation='softmax')\n",
    "])"
   ]
  },
  {
   "cell_type": "markdown",
   "metadata": {},
   "source": [
    "|parameter|value|\n",
    "|-----|-----|\n",
    "|embedding size|300|\n",
    "|dictionary length|10K|\n",
    "|sequence length in words|300|\n",
    "|BiLSTM|128 - 512|\n",
    "|batch size|256|"
   ]
  },
  {
   "cell_type": "markdown",
   "metadata": {},
   "source": [
    "#### Výsledky trénovania\n",
    "![name](assets/baseline_bilstm_accuracy.png)        \n",
    "![name](assets/baseline_bilstm_loss.png) "
   ]
  },
  {
   "cell_type": "markdown",
   "metadata": {},
   "source": [
    "Model sa po 5 epochách pretrénoval, pred tým však dosiahol presnosť ~85% na validačnej množine."
   ]
  },
  {
   "cell_type": "markdown",
   "metadata": {},
   "source": [
    "### Diagram self-attention"
   ]
  },
  {
   "cell_type": "markdown",
   "metadata": {},
   "source": [
    "![BiLSTM](assets/attn-diag.png)"
   ]
  },
  {
   "cell_type": "code",
   "execution_count": null,
   "metadata": {},
   "outputs": [],
   "source": [
    "tf.keras.Sequential([\n",
    "    tf.keras.layers.Embedding(input_dim=VOCAB_SIZE+2, output_dim=emb, mask_zero=True),\n",
    "    tf.keras.layers.LSTM(lstm1, return_sequences=True, dropout=drop1, activation='sigmoid'),\n",
    "    layers.SelfAttention(size=lstm1//2,\n",
    "                         num_hops=64,\n",
    "                         use_penalization=False,\n",
    "                         model_api='sequential'),\n",
    "    tf.keras.layers.Dense(2, activation='softmax')\n",
    "])"
   ]
  },
  {
   "cell_type": "markdown",
   "metadata": {},
   "source": [
    "![name](assets/baseline_att_accuracy.png)           \n",
    "![name](assets/baseline_att_loss.png) "
   ]
  },
  {
   "cell_type": "markdown",
   "metadata": {},
   "source": [
    "|parameter|value|\n",
    "|-----|-----|\n",
    "|embedding size|300|\n",
    "|dictionary length|10K|\n",
    "|sequence length in words|300|\n",
    "|LSTM|128 - 512|\n",
    "|batch size|256|"
   ]
  },
  {
   "cell_type": "markdown",
   "metadata": {},
   "source": [
    "### Diagram BiLSTM siete s mechanizmom pozornosti pred rekurentnou vrstvou"
   ]
  },
  {
   "cell_type": "markdown",
   "metadata": {},
   "source": [
    "![BiLSTM](assets/xxx4-diag.png)"
   ]
  },
  {
   "cell_type": "code",
   "execution_count": null,
   "metadata": {},
   "outputs": [],
   "source": [
    "tf.keras.Sequential([\n",
    "    tf.keras.layers.Embedding(input_dim=VOCAB_SIZE+2, output_dim=emb, mask_zero=True),\n",
    "    layers.SelfAttention(size=lstm1//2,\n",
    "                         num_hops=64,\n",
    "                         use_penalization=False,\n",
    "                         model_api='sequential'),\n",
    "    tf.keras.layers.Reshape((-1, 256)),\n",
    "    tf.keras.layers.Bidirectional(\n",
    "            tf.keras.layers.LSTM(lstm1, return_sequences=False, dropout=drop1, activation='sigmoid')),\n",
    "    tf.keras.layers.Dense(2, activation='softmax')\n",
    "])"
   ]
  },
  {
   "cell_type": "markdown",
   "metadata": {},
   "source": [
    "|parameter|value|\n",
    "|-----|-----|\n",
    "|embedding size|300|\n",
    "|dictionary length|10K|\n",
    "|sequence length in words|300|\n",
    "|BiLSTM|128 - 512|\n",
    "|batch size|256|"
   ]
  },
  {
   "cell_type": "markdown",
   "metadata": {},
   "source": [
    "Self attention mechinizmus bol v tomto prípade použitý nad embeddingami, výsledný vektor bol následne rozdelení a slúžil ako vstup pre BiLSTM vrstvu.\n",
    "![name](assets/baseline_pre_att_accuracy.png)       \n",
    "![name](assets/baseline_pre_att_loss.png) "
   ]
  },
  {
   "cell_type": "markdown",
   "metadata": {},
   "source": [
    "Validation accuracy\n",
    "\n",
    "|model name/Hidden units|128|256|512|\n",
    "|-|-|-|-|\n",
    "|BiLSTM|0.85|0.84|0.85|\n",
    "|Attention|0.86|0.85|0.5|\n",
    "|BiLSTM pre Attention|0.85|0.85|0.85|"
   ]
  },
  {
   "cell_type": "markdown",
   "metadata": {},
   "source": [
    "### Diagram hierarchickej LSTM siete"
   ]
  },
  {
   "cell_type": "markdown",
   "metadata": {},
   "source": [
    "![BiLSTM](assets/xxx1-diag.png)"
   ]
  },
  {
   "cell_type": "code",
   "execution_count": null,
   "metadata": {},
   "outputs": [],
   "source": [
    "tf.keras.Sequential([\n",
    "    tf.keras.layers.TimeDistributed(\n",
    "        tf.keras.layers.Embedding(input_dim=VOCAB_SIZE+2, output_dim=emb, mask_zero=True),\n",
    "        input_shape=(MAX_PAR_LEN, args.sl)),\n",
    "    tf.keras.layers.TimeDistributed(\n",
    "        tf.keras.layers.LSTM(lstm1, dropout=drop1, activation='sigmoid')),\n",
    "    tf.keras.layers.LSTM(lstm2, dropout=drop2, activation='sigmoid'),\n",
    "    tf.keras.layers.Dense(2, activation='softmax')\n",
    "])"
   ]
  },
  {
   "cell_type": "markdown",
   "metadata": {},
   "source": [
    "Hierarchická LSTM sieť. Každé review je rozdelené na vety následne LSTM siete vytvoria reprezentáciu viet zo slov. Tieto reprezentácie viet slúžia ako vstup pre ďaľšiu LSTM siet, ktorá vytvára reprezentáciu celého dokunetu ktorý je následne kategorizovaný."
   ]
  },
  {
   "cell_type": "markdown",
   "metadata": {},
   "source": [
    "|parameter|value|\n",
    "|-----|-----|\n",
    "|embedding size|300|\n",
    "|dictionary length|10K|\n",
    "|sequence length in words|20 * 15 sentences in a paragraph|\n",
    "|LSTM1|128 - 256|\n",
    "|LSTM2|128 - 512|\n",
    "|batch size|256|"
   ]
  },
  {
   "cell_type": "markdown",
   "metadata": {},
   "source": [
    "![name](assets/hierarchical_lstm_accuracy.png)      \n",
    "![name](assets/hierarchical_lstm_loss.png)"
   ]
  },
  {
   "cell_type": "markdown",
   "metadata": {},
   "source": [
    "Validation accuracy\n",
    "\n",
    "|LSTM1/LSTM2|128|256|512|\n",
    "|-|-|-|-|\n",
    "|128|0.51|0.51|0.51|\n",
    "|256|0.5|0.51|0.51|"
   ]
  },
  {
   "cell_type": "markdown",
   "metadata": {},
   "source": [
    "Ako môžeme vydieť sieť mala problém zovšeobecniť. Fungovala na trénovacej sade ale nie na validačnej."
   ]
  },
  {
   "cell_type": "markdown",
   "metadata": {},
   "source": [
    "### Diagram hierarchickej BiLSTM siete"
   ]
  },
  {
   "cell_type": "markdown",
   "metadata": {},
   "source": [
    "![BiLSTM](assets/xxx3-diag.png)"
   ]
  },
  {
   "cell_type": "code",
   "execution_count": null,
   "metadata": {},
   "outputs": [],
   "source": [
    "tf.keras.Sequential([\n",
    "    tf.keras.layers.TimeDistributed(\n",
    "        tf.keras.layers.Embedding(input_dim=VOCAB_SIZE+2, output_dim=emb, mask_zero=True),\n",
    "        input_shape=(MAX_PAR_LEN, args.sl)),\n",
    "    tf.keras.layers.TimeDistributed(\n",
    "        tf.keras.layers.Bidirectional(\n",
    "            tf.keras.layers.LSTM(lstm1, dropout=drop1, activation='sigmoid')\n",
    "        )),\n",
    "    tf.keras.layers.Bidirectional(\n",
    "        tf.keras.layers.LSTM(lstm2, dropout=drop2, activation='sigmoid')\n",
    "    ),\n",
    "    tf.keras.layers.Dense(2, activation='softmax')\n",
    "])"
   ]
  },
  {
   "cell_type": "raw",
   "metadata": {},
   "source": [
    "|parameter|value|\n",
    "|-----|-----|\n",
    "|embedding size|300|\n",
    "|dictionary length|10K|\n",
    "|sequence length in words|20 * 15 sentences in a paragraph|\n",
    "|BiLSTM1|128 - 256|\n",
    "|BiLSTM2|128 - 512|\n",
    "|batch size|256|"
   ]
  },
  {
   "cell_type": "markdown",
   "metadata": {},
   "source": [
    "LSTM siete z predchádzajúcej hierarchickej siete boli nahradené BiLSTM sieťami, ktoré vyrišilo problémy s predchádzajúcim modelom.\n",
    "![name](assets/hierarchical_bilstm_accuracy.png)    \n",
    "![name](assets/hierarchical_bilstm_loss.png) "
   ]
  },
  {
   "cell_type": "markdown",
   "metadata": {},
   "source": [
    "Validation accuracy\n",
    "\n",
    "|LSTM1/LSTM2|128|256|512|\n",
    "|-|-|-|-|\n",
    "|128|0.84|0.84|0.84|\n",
    "|256|0.84|0.84|0.84|"
   ]
  },
  {
   "cell_type": "markdown",
   "metadata": {},
   "source": [
    "### Diagram hierarchickej BiLSTM siete s mechanizmom pozortnosti"
   ]
  },
  {
   "cell_type": "markdown",
   "metadata": {},
   "source": [
    "![BiLSTM](assets/xxx2-diag.png)"
   ]
  },
  {
   "cell_type": "code",
   "execution_count": null,
   "metadata": {},
   "outputs": [],
   "source": [
    "tf.keras.Sequential([\n",
    "    tf.keras.layers.TimeDistributed(\n",
    "        tf.keras.layers.Embedding(input_dim=VOCAB_SIZE+2, output_dim=emb, mask_zero=True),\n",
    "        input_shape=(MAX_PAR_LEN, args.sl)\n",
    "    ),\n",
    "    tf.keras.layers.TimeDistributed(\n",
    "        tf.keras.layers.Bidirectional(\n",
    "            tf.keras.layers.LSTM(lstm1, dropout=drop1, activation='sigmoid')\n",
    "        )\n",
    "    ),\n",
    "    tf.keras.layers.Bidirectional(\n",
    "        tf.keras.layers.LSTM(lstm2, dropout=drop2, activation='sigmoid', return_sequences=True)\n",
    "    ),\n",
    "    layers.SelfAttention(size=lstm2//2,\n",
    "                         num_hops=32,\n",
    "                         use_penalization=False,\n",
    "                         model_api='sequential'),\n",
    "    tf.keras.layers.Dense(2, activation='softmax')\n",
    "])"
   ]
  },
  {
   "cell_type": "markdown",
   "metadata": {},
   "source": [
    "|parameter|value|\n",
    "|-----|-----|\n",
    "|embedding size|300|\n",
    "|dictionary length|10K|\n",
    "|sequence length in words|20 * 15 sentences in a paragraph|\n",
    "|BiLSTM1|128 - 256|\n",
    "|BiLSTM2|128 - 512|\n",
    "|batch size|256|"
   ]
  },
  {
   "cell_type": "markdown",
   "metadata": {},
   "source": [
    "![name](assets/hierarchical_bilstm_att_accuracy.png)\n",
    "![name](assets/hierarchical_bilstm_att_loss.png)"
   ]
  },
  {
   "cell_type": "markdown",
   "metadata": {},
   "source": [
    "Validation accuracy\n",
    "\n",
    "|LSTM1/LSTM2|128|256|512|\n",
    "|-|-|-|-|\n",
    "|128|0.85|0.84|0.5|\n",
    "|256|0.86|0.85|0.5|"
   ]
  },
  {
   "cell_type": "markdown",
   "metadata": {},
   "source": [
    "## Training routine"
   ]
  },
  {
   "cell_type": "markdown",
   "metadata": {},
   "source": [
    "Všetkých 6 modelov novali 20 epoch s dĺžkou review 300 slov, alebo 20 slov po 15 viet(V prípade hierarchických sietí). Tým pádom, že sme používali optimalizačný algoritmus ADAM nebolo treba menuálne nastavovať learning raty. Batch size bol 256.\n",
    "\n",
    "Počas trénovania sa ukladal vždy najlepší model. Zložky logs obsahujú celý priebeh trénovania.\n",
    "\n",
    "Každá sieť sa trénovala s nasledujúcimi parametrami 128, 256 alebo 512 prvkov v skrytých vrstvách."
   ]
  },
  {
   "cell_type": "markdown",
   "metadata": {},
   "source": [
    "## Experimenty"
   ]
  },
  {
   "cell_type": "markdown",
   "metadata": {},
   "source": [
    "Robili sme experiment, v ktorom sme sa snažili analyzovať sentiment používateľských recenzií. Použili sme škálu modelov s rôznymi konfiguráciami vrstiev:\n",
    "- BiLSTM\n",
    "- LSTM s mechanizmami pozornosti pred a po LSTM vrstve\n",
    "- hierarchické LSTM siete s a bez BiLSTM a mechanizmom pozornosti."
   ]
  },
  {
   "cell_type": "markdown",
   "metadata": {},
   "source": [
    "Snažili sme sa zistiť ako rôzne hierarchie a počet neurónov v ich rekurentných sietiach ovplyvňuje výsledok trénovania. Dopeli sme k nasledujúcim zisteniam:\n",
    "- Množstvo neurónov 128, 256, 512 nijakým extrémnym spôsobom neovplyvňoval výkon našich modelov\n",
    "- Všetky modely(okrem jedného) sa dokázali naučiť klasifikovať review s presnosťou 0.85 percent\n",
    "- Hierarchický model s LSTM vrstvami mal problém vôbec zovšeobecníť, tento problém zanikol po pridaní BiLSTM vrstvy\n",
    "- Taktiež mali problémy siete, ktoré mali veľmi veľké vrstvy pozornosti, hierarchické aj baseline s att s 512 neurónmy\n",
    "- Najrýchlejšie konvergovali hierarchické siete s BiLSTM vrstvami s BiLSTM siete s mechanizmom pozornosti pre rekurentnou vrstvou"
   ]
  },
  {
   "cell_type": "markdown",
   "metadata": {},
   "source": [
    "Všetky siete mali rovnaký výkon a dosahovali presnosť okolo 0.85, nezávisle od modelu alebo počtu neurónov v ich vrstvách. Sústredili sme sa potom na zistenie toho, ktorý model sa vie natrénovať najrýchlejšie. Najviac sme boli spokojný s BiLSTM s Attentionnom. Najrýchlejšie sa trénoval a nemal problém konvergovať k niečomu užitočnému od začiatku. Najhoršie na tom boli hierarchické neurónové siete s jednosmernou LSTM sieťou. Pravdepodobne kvôli tomu, že nevedeli vytvoriť zmysluplnú reprezentáciu viet.\n",
    "\n",
    "V prípade, že attention vrstva narástla na veľkosť 256, sieťe mali problém zovšeobecňovať. Attention vrstva ma vždme polovicu veľkosti predchádzajúcej vrstvy."
   ]
  }
 ],
 "metadata": {
  "kernelspec": {
   "display_name": "Python 3",
   "language": "python",
   "name": "python3"
  },
  "language_info": {
   "codemirror_mode": {
    "name": "ipython",
    "version": 3
   },
   "file_extension": ".py",
   "mimetype": "text/x-python",
   "name": "python",
   "nbconvert_exporter": "python",
   "pygments_lexer": "ipython3",
   "version": "3.6.9"
  }
 },
 "nbformat": 4,
 "nbformat_minor": 2
}
